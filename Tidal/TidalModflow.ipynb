{
 "metadata": {
  "name": ""
 },
 "nbformat": 3,
 "nbformat_minor": 0,
 "worksheets": [
  {
   "cells": [
    {
     "cell_type": "code",
     "collapsed": false,
     "input": [
      "%pylab inline --no-import-all"
     ],
     "language": "python",
     "metadata": {},
     "outputs": [
      {
       "output_type": "stream",
       "stream": "stdout",
       "text": [
        "Populating the interactive namespace from numpy and matplotlib\n"
       ]
      }
     ],
     "prompt_number": 1
    },
    {
     "cell_type": "code",
     "collapsed": false,
     "input": [
      "import os\n",
      "import shutil\n",
      "from subprocess import Popen\n",
      "import math\n",
      "import numpy as np\n",
      "#import pylab as pl\n",
      "import scipy.signal as signal\n",
      "import scipy.fftpack as fftpack\n",
      "import matplotlib.pyplot as mplt\n",
      "import flopy.modflow as mf\n",
      "import flopy.utils as fu"
     ],
     "language": "python",
     "metadata": {},
     "outputs": [],
     "prompt_number": 2
    },
    {
     "cell_type": "code",
     "collapsed": false,
     "input": [
      "#--default matplotlib \n",
      "mplt.rcParams['font.sans-serif']          = 'Arial'\n",
      "mplt.rcParams['font.serif']               = 'Times'\n",
      "mplt.rcParams['font.cursive']             = 'Zapf Chancery'\n",
      "mplt.rcParams['font.fantasy']             = 'Comic Sans MS'\n",
      "mplt.rcParams['font.monospace']           = 'Courier New'\n",
      "mplt.rcParams['pdf.compression']          = 0\n",
      "mplt.rcParams['pdf.fonttype']             = 42\n",
      "mplt.rcParams['mathtext.default'] = 'regular'\n",
      "\n",
      "ticksize = 8\n",
      "mplt.rcParams['legend.fontsize']  = 8\n",
      "mplt.rcParams['axes.labelsize']   = 8\n",
      "mplt.rcParams['xtick.labelsize']  = ticksize\n",
      "mplt.rcParams['ytick.labelsize']  = ticksize"
     ],
     "language": "python",
     "metadata": {},
     "outputs": [],
     "prompt_number": 3
    },
    {
     "cell_type": "code",
     "collapsed": false,
     "input": [
      "home = os.path.expanduser(\"~\")\n",
      "working_dir = os.path.join(home, 'TidalModflow')\n",
      "#working_dir = os.path.join('D:/','Users', 'jdhughes', '_Data', 'Projects', 'Tidal', 'TidalModflow')\n",
      "if not os.path.exists(working_dir):\n",
      "    print 'creating...{0}'.format(working_dir)\n",
      "    os.makedirs(working_dir)\n",
      "print 'Module working directory: {0}'.format(working_dir)\n",
      "os.chdir(working_dir)"
     ],
     "language": "python",
     "metadata": {},
     "outputs": [
      {
       "output_type": "stream",
       "stream": "stdout",
       "text": [
        "creating...C:\\Users\\jdhughes\\TidalModflow\n",
        "Module working directory: C:\\Users\\jdhughes\\TidalModflow\n"
       ]
      }
     ],
     "prompt_number": 4
    },
    {
     "cell_type": "code",
     "collapsed": false,
     "input": [
      "a = 1.0\n",
      "lbda = 0.125\n",
      "days = 7.\n",
      "ctime = '15 min'\n",
      "#ctime = '1 min'\n",
      "#ctime = '1 hr'\n",
      "if ctime == '1 hr':\n",
      "    tmult = 24\n",
      "elif ctime == '30 min':\n",
      "    tmult = 24 * 2\n",
      "elif ctime == '15 min':\n",
      "    tmult = 24 * 4\n",
      "elif ctime == '10 min':\n",
      "    tmult = 24 * 6\n",
      "elif ctime == '1 min':\n",
      "    tmult = 24 * 60\n",
      "delti = float(tmult)\n",
      "delt = 1. / delti\n",
      "ntimes = tmult * int(days)\n",
      "times = np.linspace(0, days, ntimes)\n",
      "rad = np.copy(times) / lbda\n",
      "tide = a * np.sin(rad)"
     ],
     "language": "python",
     "metadata": {},
     "outputs": [],
     "prompt_number": 5
    },
    {
     "cell_type": "code",
     "collapsed": false,
     "input": [
      "fig = mplt.figure()\n",
      "mplt.plot(times, tide, color='blue', linewidth=0.5)\n",
      "mplt.xlim((0.,days))\n",
      "mplt.ylim((-a * 1.25,a * 1.25))\n",
      "mplt.show()"
     ],
     "language": "python",
     "metadata": {},
     "outputs": [
      {
       "metadata": {},
       "output_type": "display_data",
       "png": "[encoded data removed]",
       "text": [
        "<matplotlib.figure.Figure at 0x8a71eb8>"
       ]
      }
     ],
     "prompt_number": 6
    },
    {
     "cell_type": "code",
     "collapsed": false,
     "input": [
      "nlay, nrow, ncol = 1, 1, 250\n",
      "dy = 1.\n",
      "dx = np.empty(ncol, np.float)\n",
      "xcell = np.empty(ncol, np.float)\n",
      "xmax = 100000.\n",
      "#dx.fill(xmax / float(ncol))\n",
      "dxmult = 1.05\n",
      "dx[0] = xmax * ((dxmult-1) / (math.pow(dxmult, float(ncol)) - 1))\n",
      "xcell[0] = dx[0] / 2.\n",
      "for idx in xrange(1, ncol):\n",
      "    dx[idx] = dx[idx-1] * dxmult\n",
      "    xcell[idx] = xcell[idx-1] + 0.5 * (dx[idx-1] + dx[idx])\n",
      "xanal = np.copy(xcell) - dx[0] / 2."
     ],
     "language": "python",
     "metadata": {},
     "outputs": [],
     "prompt_number": 7
    },
    {
     "cell_type": "code",
     "collapsed": false,
     "input": [
      "exe_name='mf2005.exe'\n",
      "model_name = 'TidalModflow'\n",
      "nper, itmuni, lenuni = ntimes-1, 4, 0\n",
      "perlen = np.empty(nper, np.float)\n",
      "perlen.fill(delt)\n",
      "nstp = np.ones(nper, np.int)\n",
      "tsmult = np.ones(nper, np.float)\n",
      "steady = False\n",
      "hnoflo = 1.0e+30\n",
      "hdry = 1.0e+31\n",
      "top = 10.\n",
      "botm = -30.\n",
      "ibound = np.ones((nlay,nrow,ncol), np.int)\n",
      "ibound[:,:,0] = -1\n",
      "ibound[:,:,-1] = -1\n",
      "h0, hl = 0., 2.5\n",
      "strt = (np.sqrt((h0 * h0) - (xcell / xmax) * (h0 * h0 - hl * hl))).reshape((nlay, nrow, ncol))\n",
      "laytype = np.ones(nlay, dtype=np.int)\n",
      "layavg = np.zeros(nlay, dtype=np.int)\n",
      "#--solver iteration data\n",
      "nouter = 100\n",
      "ninner = 50\n",
      "#--solver convergence data\n",
      "hclose = 1.0e-6\n",
      "rclose = 0.1\n",
      "relax = 0.97"
     ],
     "language": "python",
     "metadata": {},
     "outputs": [],
     "prompt_number": 8
    },
    {
     "cell_type": "markdown",
     "metadata": {},
     "source": [
      "Build CHD from tides"
     ]
    },
    {
     "cell_type": "code",
     "collapsed": false,
     "input": [
      "chd_data = []\n",
      "tidal_data = []\n",
      "for idx in xrange(len(times)-1):\n",
      "    t = [1,1,1,tide[idx],tide[idx+1]]\n",
      "    chd_data.append([t])\n",
      "    tidal_data.append(tide[idx+1])\n",
      "tidal_data = np.array(tidal_data)"
     ],
     "language": "python",
     "metadata": {},
     "outputs": [],
     "prompt_number": 9
    },
    {
     "cell_type": "code",
     "collapsed": false,
     "input": [
      "#--build list of observation locations\n",
      "ts_list = []\n",
      "for jcol in xrange(ncol):\n",
      "    ts_list.append((1, 1, jcol+1))"
     ],
     "language": "python",
     "metadata": {},
     "outputs": [],
     "prompt_number": 10
    },
    {
     "cell_type": "code",
     "collapsed": false,
     "input": [
      "#--storage parameters\n",
      "ss = 1.0e-5\n",
      "sy = 0.15\n",
      "#--calculate average storativity\n",
      "xt = np.arange(0,xmax+1.,1.)\n",
      "b = (np.sqrt((h0 * h0) - (xt / xmax) * (h0 * h0 - hl * hl))) - botm\n",
      "S = np.average(b) * sy"
     ],
     "language": "python",
     "metadata": {},
     "outputs": [],
     "prompt_number": 11
    },
    {
     "cell_type": "code",
     "collapsed": false,
     "input": [
      "all_hd = np.array([0.01, 0.1, 1., 10., 100., 1000., 10000.])\n",
      "#all_hd = np.array([1., 10.])\n",
      "all_kh = np.copy(all_hd) * S"
     ],
     "language": "python",
     "metadata": {},
     "outputs": [],
     "prompt_number": 12
    },
    {
     "cell_type": "code",
     "collapsed": false,
     "input": [
      "a_sim = np.zeros(ncol, np.float)\n",
      "off_sim = np.zeros(ncol, np.float)"
     ],
     "language": "python",
     "metadata": {},
     "outputs": [],
     "prompt_number": 13
    },
    {
     "cell_type": "code",
     "collapsed": false,
     "input": [
      "fig = mplt.figure()\n",
      "ax1 = mplt.subplot(2,1,1)\n",
      "ax2 = mplt.subplot(2,1,2)\n",
      "ax1min = None\n",
      "ax1max = None\n",
      "cl = []\n",
      "m = None\n",
      "m = mf.Modflow(modelname=model_name, exe_name=exe_name)\n",
      "for idx, [hk,hd] in enumerate(zip(all_kh,all_hd)):\n",
      "    if idx == 0:\n",
      "        dis = mf.ModflowDis(m, nlay=nlay, nrow=nrow, ncol=ncol, nper=nper,\n",
      "                            delr=dx, delc=dy, laycbd=0, top=top, botm=botm,\n",
      "                            perlen=perlen, nstp=nstp, tsmult=tsmult, itmuni=itmuni, lenuni=lenuni, steady=steady)\n",
      "        bas = mf.ModflowBas(m, hnoflo=hnoflo, ibound=ibound, strt=strt, stoper=0.01)\n",
      "        lpf = mf.ModflowLpf(m, laytyp=laytype, layavg=layavg, layvka=0, laywet=0,\n",
      "                            iwdflg=0, wetfct=0, ihdwet=0, hdry=hdry,\n",
      "                            hk=hk, hani=1.0, vka=hk, ss=ss, sy=sy)\n",
      "        chd = mf.ModflowChd(m, layer_row_column_shead_ehead=chd_data)\n",
      "        pcg = mf.ModflowPcg(m, hclose=hclose, rclose=rclose, mxiter=nouter, iter1=ninner, relax=relax, iprpcg=1, mutpcg=1)\n",
      "        oc = mf.ModflowOc(m, ihedfm=-4, iddnfm=-4, save_head_every=1)\n",
      "        m.write_input()\n",
      "    else:\n",
      "        packlist = 'LPF'\n",
      "        m.remove_package(packlist)\n",
      "        lpf = mf.ModflowLpf(m, laytyp=laytype, layavg=layavg, layvka=0, laywet=0,\n",
      "                            iwdflg=0, wetfct=0, ihdwet=0, hdry=hdry,\n",
      "                            hk=hk, hani=1.0, vka=hk, ss=ss, sy=sy)\n",
      "        m.write_input(SelPackList=[packlist])\n",
      "    #--run the model\n",
      "    Popen([exe_name, model_name + '.nam']).communicate()[0]\n",
      "    #m.run_model2(stdout=False)\n",
      "    #--read the data for each column\n",
      "    hds = fu.HeadFile('{0}.hds'.format(model_name))\n",
      "    v = hds.get_ts(ts_list)\n",
      "    nsamples = v.shape[0]\n",
      "    dt = np.arange(1-nsamples, nsamples)\n",
      "    hds.file.close()\n",
      "    #--calculate offset\n",
      "    tt = v[:, 1] - np.average(v[:, 1])\n",
      "    A = fftpack.fft(tt)\n",
      "    jdx = np.abs(A).argmax()\n",
      "    AO = np.angle(A) / (360. * delt)\n",
      "    a0 = AO[jdx]\n",
      "    for jcol in xrange(ncol):\n",
      "        tp = v[:, jcol+1] - np.average(v[:, jcol+1])\n",
      "        #--fft\n",
      "        A = fftpack.fft(tp)\n",
      "        #--amplitude\n",
      "        ta = np.abs(A).max()\n",
      "        jdx = np.abs(A).argmax()\n",
      "        #--offset\n",
      "        AO = np.angle(A) / (360. * delt)\n",
      "        to = AO[jdx]\n",
      "        #xcorr = signal.correlate(tp, tt)\n",
      "        #to = float(dt[xcorr.argmax()] * delhrs)\n",
      "        #--fill arrays\n",
      "        off_sim[jcol] = (a0 - to) * 24.\n",
      "        a_sim[jcol] = ta\n",
      "    #--\n",
      "    jdx = 0\n",
      "    d0 = 0.0\n",
      "    for jcol in xrange(0, ncol-1):\n",
      "        d1 = off_sim[jcol] - off_sim[jcol+1]\n",
      "        if jcol > 0:\n",
      "            sd0 = np.sign(d0)\n",
      "            sd1 = np.sign(d1)\n",
      "            if abs(d0) > 0.1:\n",
      "                if sd1 != sd0:\n",
      "                    jdx = jcol + 1\n",
      "                    if ax1min is None:\n",
      "                        ax1min = off_sim[:jdx].min()\n",
      "                    else:\n",
      "                        ax1min = max(ax1min, off_sim[:jdx].min())\n",
      "                    if ax1max is None:\n",
      "                        ax1max = off_sim[:jdx].max()\n",
      "                    else:\n",
      "                        ax1max = min(ax1max, off_sim[:jdx].max())\n",
      "                    #print jcol, sd0, sd1, d0, d1\n",
      "                    break\n",
      "        d0 = d1 \n",
      "        #if a_sim[jcol] < 0.1:\n",
      "        #    jdx = jcol\n",
      "        #    off_base = off_sim[jdx-1]\n",
      "        #    break\n",
      "    #off_sim[jdx:] = off_base\n",
      "    off_sim[jdx:] = np.nan\n",
      "    #--plot values\n",
      "    ax1.semilogx(xcell, off_sim, linewidth=0.5, label='{0:5.2g}'.format(hd))\n",
      "    p2, = ax2.semilogx(xcell, a*a_sim/np.abs(a_sim).max(), linewidth=0.5, label='{0:5.2g}'.format(hd))\n",
      "    cl.append(p2.get_color())\n",
      "\n",
      "for idx, hd in enumerate(all_hd):\n",
      "    tm = np.sqrt(lbda/((delti/2.) * float(hd)))\n",
      "    xx = np.multiply(xanal, -1.0) * tm\n",
      "    aa = np.exp(xx)\n",
      "    tm = np.sqrt(lbda/(float(hd)))\n",
      "    xx = np.copy(xanal) * tm\n",
      "    #--plot values\n",
      "    ax1.semilogx(xanal, xx, linewidth=0.5, linestyle=':', color=cl[idx], label='_None')\n",
      "    ax2.semilogx(xanal, aa, linewidth=0.5, linestyle=':', color=cl[idx], label='_None')\n",
      "\n",
      "l = ax1.legend(loc='best',ncol=2, title='Hydraulic\\ndiffusivity')   \n",
      "l.draw_frame(False)\n",
      "l.get_title().set_ha(\"center\")  \n",
      "\n",
      "ax1.set_xlim((1.e-2,xmax))\n",
      "ax1.set_ylim((ax1min,ax1max))\n",
      "ax1.set_ylabel('Time offset, minutes')\n",
      "ax2.set_xlim((1.e-2,xmax))\n",
      "ax2.set_ylabel(r'$\\Delta$ amplitude, meters')\n",
      "ax2.set_xlabel('Distance from coast, meters')\n",
      "mplt.show()"
     ],
     "language": "python",
     "metadata": {},
     "outputs": [
      {
       "output_type": "stream",
       "stream": "stderr",
       "text": [
        "C:\\Anaconda\\lib\\site-packages\\matplotlib\\transforms.py:644: RuntimeWarning: invalid value encountered in sign\n",
        "  dx0 = np.sign(vertices[:, 0] - x0)\n",
        "C:\\Anaconda\\lib\\site-packages\\matplotlib\\transforms.py:645: RuntimeWarning: invalid value encountered in sign\n",
        "  dy0 = np.sign(vertices[:, 1] - y0)\n",
        "C:\\Anaconda\\lib\\site-packages\\matplotlib\\transforms.py:646: RuntimeWarning: invalid value encountered in sign\n",
        "  dx1 = np.sign(vertices[:, 0] - x1)\n",
        "C:\\Anaconda\\lib\\site-packages\\matplotlib\\transforms.py:647: RuntimeWarning: invalid value encountered in sign\n",
        "  dy1 = np.sign(vertices[:, 1] - y1)\n",
        "C:\\Anaconda\\lib\\site-packages\\matplotlib\\transforms.py:648: RuntimeWarning: invalid value encountered in absolute\n",
        "  inside = ((abs(dx0 + dx1) + abs(dy0 + dy1)) == 0)\n"
       ]
      },
      {
       "metadata": {},
       "output_type": "display_data",
       "png": "[encoded data removed]",
       "text": [
        "<matplotlib.figure.Figure at 0x8dce748>"
       ]
      }
     ],
     "prompt_number": 14
    },
    {
     "cell_type": "markdown",
     "metadata": {},
     "source": [
      "Get out of the working directory and delete it"
     ]
    },
    {
     "cell_type": "code",
     "collapsed": false,
     "input": [
      "os.chdir(home)\n",
      "shutil.rmtree(working_dir, ignore_errors=True, onerror=None)"
     ],
     "language": "python",
     "metadata": {},
     "outputs": [],
     "prompt_number": 15
    },
    {
     "cell_type": "code",
     "collapsed": false,
     "input": [],
     "language": "python",
     "metadata": {},
     "outputs": [],
     "prompt_number": 15
    }
   ],
   "metadata": {}
  }
 ]
}